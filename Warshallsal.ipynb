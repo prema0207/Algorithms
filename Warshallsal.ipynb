{
  "nbformat": 4,
  "nbformat_minor": 0,
  "metadata": {
    "colab": {
      "provenance": [],
      "authorship_tag": "ABX9TyM5u3mHt2v1QwJhLYVZ/j7U",
      "include_colab_link": true
    },
    "kernelspec": {
      "name": "python3",
      "display_name": "Python 3"
    },
    "language_info": {
      "name": "python"
    }
  },
  "cells": [
    {
      "cell_type": "markdown",
      "metadata": {
        "id": "view-in-github",
        "colab_type": "text"
      },
      "source": [
        "<a href=\"https://colab.research.google.com/github/prema0207/Algorithms/blob/main/Warshallsal.ipynb\" target=\"_parent\"><img src=\"https://colab.research.google.com/assets/colab-badge.svg\" alt=\"Open In Colab\"/></a>"
      ]
    },
    {
      "cell_type": "code",
      "source": [
        "def warshall_algorithm(graph):\n",
        "    n = len(graph)\n",
        "    closure = [[graph[i][j] for j in range(n)] for i in range(n)]\n",
        "    for k in range(n):\n",
        "        for i in range(n):\n",
        "            for j in range(n):\n",
        "                closure[i][j] = closure[i][j] or (closure[i][k] and closure[k][j])\n",
        "    return closure\n",
        "graph = [\n",
        "    [1, 1, 0, 0],\n",
        "    [0, 1, 1, 0],\n",
        "    [0, 0, 1, 1],\n",
        "    [0, 0, 0, 1]\n",
        "]\n",
        "result = warshall_algorithm(graph)\n",
        "print(\"Transitive Closure of the given graph:\")\n",
        "for row in result:\n",
        "    print(row)\n"
      ],
      "metadata": {
        "colab": {
          "base_uri": "https://localhost:8080/"
        },
        "id": "vuKuYigZ5cHM",
        "outputId": "273c43f9-c833-4db6-8c6b-02b9cedd0404"
      },
      "execution_count": 2,
      "outputs": [
        {
          "output_type": "stream",
          "name": "stdout",
          "text": [
            "Transitive Closure of the given graph:\n",
            "[1, 1, 1, 1]\n",
            "[0, 1, 1, 1]\n",
            "[0, 0, 1, 1]\n",
            "[0, 0, 0, 1]\n"
          ]
        }
      ]
    }
  ]
}