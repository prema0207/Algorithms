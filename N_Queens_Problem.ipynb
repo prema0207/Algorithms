{
  "nbformat": 4,
  "nbformat_minor": 0,
  "metadata": {
    "colab": {
      "provenance": [],
      "authorship_tag": "ABX9TyMQX4zH+srQXIsjW0d5U0eX",
      "include_colab_link": true
    },
    "kernelspec": {
      "name": "python3",
      "display_name": "Python 3"
    },
    "language_info": {
      "name": "python"
    }
  },
  "cells": [
    {
      "cell_type": "markdown",
      "metadata": {
        "id": "view-in-github",
        "colab_type": "text"
      },
      "source": [
        "<a href=\"https://colab.research.google.com/github/prema0207/Algorithms/blob/main/N_Queens_Problem.ipynb\" target=\"_parent\"><img src=\"https://colab.research.google.com/assets/colab-badge.svg\" alt=\"Open In Colab\"/></a>"
      ]
    },
    {
      "cell_type": "code",
      "execution_count": 4,
      "metadata": {
        "colab": {
          "base_uri": "https://localhost:8080/"
        },
        "id": "QZHeKKUTD4Nb",
        "outputId": "e6611fe3-f2c2-4ba8-90f1-107aa6ce32fe"
      },
      "outputs": [
        {
          "output_type": "stream",
          "name": "stdout",
          "text": [
            ". Q . . \n",
            ". . . Q \n",
            "Q . . . \n",
            ". . Q . \n",
            "\n",
            ". . Q . \n",
            "Q . . . \n",
            ". . . Q \n",
            ". Q . . \n",
            "\n"
          ]
        }
      ],
      "source": [
        "def print_solution(board):\n",
        "    n = len(board)\n",
        "    for i in range(n):\n",
        "        for j in range(n):\n",
        "            print('Q' if board[i][j] else '.', end=' ')\n",
        "        print()\n",
        "    print()\n",
        "def is_safe(board, row, col):\n",
        "    n = len(board)\n",
        "    for i in range(row):\n",
        "        if board[i][col]:\n",
        "            return False\n",
        "    i, j = row, col\n",
        "    while i >= 0 and j >= 0:\n",
        "        if board[i][j]:\n",
        "            return False\n",
        "        i -= 1\n",
        "        j -= 1\n",
        "    i, j = row, col\n",
        "    while i >= 0 and j < n:\n",
        "        if board[i][j]:\n",
        "            return False\n",
        "        i -= 1\n",
        "        j += 1\n",
        "    return True\n",
        "def solve_n_queens(board, row):\n",
        "    n = len(board)\n",
        "    if row == n:\n",
        "        print_solution(board)\n",
        "        return True\n",
        "    res = False\n",
        "    for col in range(n):\n",
        "        if is_safe(board, row, col):\n",
        "            board[row][col] = 1\n",
        "            res = solve_n_queens(board, row + 1) or res\n",
        "            board[row][col] = 0  # Backtrack\n",
        "    return res\n",
        "def n_queens(n):\n",
        "    board = [[0 for _ in range(n)] for _ in range(n)]\n",
        "    if not solve_n_queens(board, 0):\n",
        "        print(\"No solution exists for N =\", n)\n",
        "n = 4\n",
        "n_queens(n)\n"
      ]
    }
  ]
}