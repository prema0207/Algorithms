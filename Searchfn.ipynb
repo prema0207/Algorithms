{
  "nbformat": 4,
  "nbformat_minor": 0,
  "metadata": {
    "colab": {
      "provenance": [],
      "authorship_tag": "ABX9TyNvtpsLI/0OhvtY5xMye58x",
      "include_colab_link": true
    },
    "kernelspec": {
      "name": "python3",
      "display_name": "Python 3"
    },
    "language_info": {
      "name": "python"
    }
  },
  "cells": [
    {
      "cell_type": "markdown",
      "metadata": {
        "id": "view-in-github",
        "colab_type": "text"
      },
      "source": [
        "<a href=\"https://colab.research.google.com/github/prema0207/Algorithms/blob/main/Searchfn.ipynb\" target=\"_parent\"><img src=\"https://colab.research.google.com/assets/colab-badge.svg\" alt=\"Open In Colab\"/></a>"
      ]
    },
    {
      "cell_type": "code",
      "execution_count": 7,
      "metadata": {
        "colab": {
          "base_uri": "https://localhost:8080/"
        },
        "id": "f3n4xha41y1f",
        "outputId": "54778569-b0c8-491b-9618-19fdc0751777"
      },
      "outputs": [
        {
          "output_type": "stream",
          "name": "stdout",
          "text": [
            "Pattern found at index 0\n",
            "Pattern found at index 2\n",
            "Pattern found at index 4\n",
            "Pattern found at index 6\n",
            "Pattern found at index 8\n",
            "Pattern found at index 10\n"
          ]
        }
      ],
      "source": [
        "def search(pat, txt):\n",
        "    n = len(txt)\n",
        "    m = len(pat)\n",
        "    for i in range(n - m + 1):\n",
        "        j = 0\n",
        "        while j < m and txt[i + j] == pat[j]:\n",
        "            j += 1\n",
        "        if j == m:\n",
        "            print(f\"Pattern found at index {i}\")\n",
        "txt = \"ABABABABABABAB\"\n",
        "pat = \"ABAB\"\n",
        "search(pat, txt)\n"
      ]
    }
  ]
}