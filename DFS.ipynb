{
  "nbformat": 4,
  "nbformat_minor": 0,
  "metadata": {
    "colab": {
      "provenance": [],
      "authorship_tag": "ABX9TyM4gwXHeXDl5jOdLbIpxYOn",
      "include_colab_link": true
    },
    "kernelspec": {
      "name": "python3",
      "display_name": "Python 3"
    },
    "language_info": {
      "name": "python"
    }
  },
  "cells": [
    {
      "cell_type": "markdown",
      "metadata": {
        "id": "view-in-github",
        "colab_type": "text"
      },
      "source": [
        "<a href=\"https://colab.research.google.com/github/prema0207/Algorithms/blob/main/DFS.ipynb\" target=\"_parent\"><img src=\"https://colab.research.google.com/assets/colab-badge.svg\" alt=\"Open In Colab\"/></a>"
      ]
    },
    {
      "cell_type": "code",
      "execution_count": 2,
      "metadata": {
        "colab": {
          "base_uri": "https://localhost:8080/"
        },
        "id": "d4clB6RA-bCn",
        "outputId": "a9d4cc21-40a9-41d8-c50b-072221b66fef"
      },
      "outputs": [
        {
          "output_type": "stream",
          "name": "stdout",
          "text": [
            "Depth First Search starting from node 0:\n",
            "0 1 3 4 2 5 6 "
          ]
        }
      ],
      "source": [
        "class Graph:\n",
        "    def __init__(self):\n",
        "        self.graph = {}\n",
        "    def add_edge(self, u, v):\n",
        "        if u not in self.graph:\n",
        "            self.graph[u] = []\n",
        "        if v not in self.graph:\n",
        "            self.graph[v] = []\n",
        "        self.graph[u].append(v)\n",
        "        self.graph[v].append(u)\n",
        "    def dfs(self, start):\n",
        "        visited = set()\n",
        "        self._dfs_helper(start, visited)\n",
        "    def _dfs_helper(self, node, visited):\n",
        "        visited.add(node)\n",
        "        print(node, end=\" \")\n",
        "        for neighbor in self.graph[node]:\n",
        "            if neighbor not in visited:\n",
        "                self._dfs_helper(neighbor, visited)\n",
        "if __name__ == \"__main__\":\n",
        "    g = Graph()\n",
        "    g.add_edge(0, 1)\n",
        "    g.add_edge(0, 2)\n",
        "    g.add_edge(1, 3)\n",
        "    g.add_edge(1, 4)\n",
        "    g.add_edge(2, 5)\n",
        "    g.add_edge(2, 6)\n",
        "    print(\"Depth First Search starting from node 0:\")\n",
        "    g.dfs(0)\n"
      ]
    }
  ]
}