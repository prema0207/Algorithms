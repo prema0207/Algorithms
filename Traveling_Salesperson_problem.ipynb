{
  "nbformat": 4,
  "nbformat_minor": 0,
  "metadata": {
    "colab": {
      "provenance": [],
      "authorship_tag": "ABX9TyMsBuQpJv80KKdGtzdOQncs",
      "include_colab_link": true
    },
    "kernelspec": {
      "name": "python3",
      "display_name": "Python 3"
    },
    "language_info": {
      "name": "python"
    }
  },
  "cells": [
    {
      "cell_type": "markdown",
      "metadata": {
        "id": "view-in-github",
        "colab_type": "text"
      },
      "source": [
        "<a href=\"https://colab.research.google.com/github/prema0207/Algorithms/blob/main/Traveling_Salesperson_problem.ipynb\" target=\"_parent\"><img src=\"https://colab.research.google.com/assets/colab-badge.svg\" alt=\"Open In Colab\"/></a>"
      ]
    },
    {
      "cell_type": "code",
      "execution_count": 2,
      "metadata": {
        "colab": {
          "base_uri": "https://localhost:8080/"
        },
        "id": "8SM32ozSFNye",
        "outputId": "fdc883b3-eef3-4475-d25a-6e7395a5511e"
      },
      "outputs": [
        {
          "output_type": "stream",
          "name": "stdout",
          "text": [
            "Cities: [(6, 6), (0, 4), (8, 7), (6, 4), (7, 5)]\n",
            "\n",
            "Optimal Path (Brute Force): [(6, 6), (0, 4), (6, 4), (7, 5), (8, 7), (6, 6)]\n",
            "Optimal Distance (Brute Force): 18.210904837709435\n",
            "\n",
            "Approximate Path (Nearest Neighbor): [(6, 6), (7, 5), (6, 4), (8, 7), (0, 4), (6, 6)]\n",
            "Approximate Distance (Nearest Neighbor): 21.302537465864468\n",
            "\n",
            "Approximation Error (%): 16.976820513350713\n"
          ]
        }
      ],
      "source": [
        "import itertools\n",
        "import random\n",
        "def distance(city1, city2):\n",
        "    return ((city1[0] - city2[0]) ** 2 + (city1[1] - city2[1]) ** 2) ** 0.5\n",
        "def brute_force_tsp(cities):\n",
        "    min_path = None\n",
        "    min_distance = float('inf')\n",
        "    for perm in itertools.permutations(cities[1:]):\n",
        "        path = [cities[0]] + list(perm) + [cities[0]]\n",
        "        distance_sum = sum(distance(path[i], path[i + 1]) for i in range(len(path) - 1))\n",
        "        if distance_sum < min_distance:\n",
        "            min_distance = distance_sum\n",
        "            min_path = path\n",
        "    return min_path, min_distance\n",
        "def nearest_neighbor_tsp(cities):\n",
        "    n = len(cities)\n",
        "    visited = [False] * n\n",
        "    current_city = 0\n",
        "    visited[current_city] = True\n",
        "    path = [cities[current_city]]\n",
        "    total_distance = 0\n",
        "    for _ in range(n - 1):\n",
        "        nearest_city = None\n",
        "        nearest_distance = float('inf')\n",
        "        for i in range(n):\n",
        "            if not visited[i]:\n",
        "                dist = distance(cities[current_city], cities[i])\n",
        "                if dist < nearest_distance:\n",
        "                    nearest_distance = dist\n",
        "                    nearest_city = i\n",
        "        visited[nearest_city] = True\n",
        "        path.append(cities[nearest_city])\n",
        "        total_distance += nearest_distance\n",
        "        current_city = nearest_city\n",
        "    total_distance += distance(cities[current_city], cities[0])  # Return to the starting city\n",
        "    path.append(cities[0])\n",
        "    return path, total_distance\n",
        "def calculate_error(optimal_distance, approx_distance):\n",
        "    return (approx_distance - optimal_distance) / optimal_distance * 100\n",
        "random.seed(0)\n",
        "cities = [(random.randint(0, 10), random.randint(0, 10)) for _ in range(5)]\n",
        "print(\"Cities:\", cities)\n",
        "optimal_path, optimal_distance = brute_force_tsp(cities)\n",
        "print(\"\\nOptimal Path (Brute Force):\", optimal_path)\n",
        "print(\"Optimal Distance (Brute Force):\", optimal_distance)\n",
        "approx_path, approx_distance = nearest_neighbor_tsp(cities)\n",
        "print(\"\\nApproximate Path (Nearest Neighbor):\", approx_path)\n",
        "print(\"Approximate Distance (Nearest Neighbor):\", approx_distance)\n",
        "error = calculate_error(optimal_distance, approx_distance)\n",
        "print(\"\\nApproximation Error (%):\", error)\n"
      ]
    }
  ]
}