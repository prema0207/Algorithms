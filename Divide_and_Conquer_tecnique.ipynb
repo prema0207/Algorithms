{
  "nbformat": 4,
  "nbformat_minor": 0,
  "metadata": {
    "colab": {
      "provenance": [],
      "authorship_tag": "ABX9TyMoKLqyoEyVFGTnhftcYh9R",
      "include_colab_link": true
    },
    "kernelspec": {
      "name": "python3",
      "display_name": "Python 3"
    },
    "language_info": {
      "name": "python"
    }
  },
  "cells": [
    {
      "cell_type": "markdown",
      "metadata": {
        "id": "view-in-github",
        "colab_type": "text"
      },
      "source": [
        "<a href=\"https://colab.research.google.com/github/prema0207/Algorithms/blob/main/Divide_and_Conquer_tecnique.ipynb\" target=\"_parent\"><img src=\"https://colab.research.google.com/assets/colab-badge.svg\" alt=\"Open In Colab\"/></a>"
      ]
    },
    {
      "cell_type": "code",
      "execution_count": 2,
      "metadata": {
        "colab": {
          "base_uri": "https://localhost:8080/"
        },
        "id": "el6G-5Bl67l1",
        "outputId": "08a7d272-cbc4-40ef-e927-7f0008542fba"
      },
      "outputs": [
        {
          "output_type": "stream",
          "name": "stdout",
          "text": [
            "Array: [100, 11, 445, 1, 330, 3000, 5]\n",
            "Minimum element: 1\n",
            "Maximum element: 3000\n"
          ]
        }
      ],
      "source": [
        "def find_min_max(arr, low, high):\n",
        "    if low == high:\n",
        "        return arr[low], arr[low]\n",
        "    if high == low + 1:\n",
        "        if arr[low] < arr[high]:\n",
        "            return arr[low], arr[high]\n",
        "        else:\n",
        "            return arr[high], arr[low]\n",
        "    mid = (low + high) // 2\n",
        "    min1, max1 = find_min_max(arr, low, mid)\n",
        "    min2, max2 = find_min_max(arr, mid + 1, high)\n",
        "    final_min = min(min1, min2)\n",
        "    final_max = max(max1, max2)\n",
        "    return final_min, final_max\n",
        "arr = [100, 11, 445, 1, 330, 3000, 5]\n",
        "n = len(arr)\n",
        "minimum, maximum = find_min_max(arr, 0, n - 1)\n",
        "print(\"Array:\", arr)\n",
        "print(\"Minimum element:\", minimum)\n",
        "print(\"Maximum element:\", maximum)\n"
      ]
    }
  ]
}