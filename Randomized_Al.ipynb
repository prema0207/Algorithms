{
  "nbformat": 4,
  "nbformat_minor": 0,
  "metadata": {
    "colab": {
      "provenance": [],
      "authorship_tag": "ABX9TyOfpQyIJVaqvRKM5WMSP+vs",
      "include_colab_link": true
    },
    "kernelspec": {
      "name": "python3",
      "display_name": "Python 3"
    },
    "language_info": {
      "name": "python"
    }
  },
  "cells": [
    {
      "cell_type": "markdown",
      "metadata": {
        "id": "view-in-github",
        "colab_type": "text"
      },
      "source": [
        "<a href=\"https://colab.research.google.com/github/prema0207/Algorithms/blob/main/Randomized_Al.ipynb\" target=\"_parent\"><img src=\"https://colab.research.google.com/assets/colab-badge.svg\" alt=\"Open In Colab\"/></a>"
      ]
    },
    {
      "cell_type": "code",
      "execution_count": 2,
      "metadata": {
        "colab": {
          "base_uri": "https://localhost:8080/"
        },
        "id": "UWjAqrAHHFuA",
        "outputId": "08d76287-f876-4cca-89e4-c6f1558b3673"
      },
      "outputs": [
        {
          "output_type": "stream",
          "name": "stdout",
          "text": [
            "The 4th smallest element is: 7\n"
          ]
        }
      ],
      "source": [
        "import random\n",
        "def partition(arr, low, high):\n",
        "    pivot_index = random.randint(low, high)\n",
        "    pivot_value = arr[pivot_index]\n",
        "    arr[pivot_index], arr[high] = arr[high], arr[pivot_index]\n",
        "    i = low - 1\n",
        "    for j in range(low, high):\n",
        "        if arr[j] <= pivot_value:\n",
        "            i += 1\n",
        "            arr[i], arr[j] = arr[j], arr[i]\n",
        "\n",
        "    arr[i + 1], arr[high] = arr[high], arr[i + 1]\n",
        "    return i + 1\n",
        "def randomized_quickselect(arr, low, high, k):\n",
        "    if low == high:\n",
        "        return arr[low]\n",
        "    pivot_index = partition(arr, low, high)\n",
        "    if k == pivot_index:\n",
        "        return arr[k]\n",
        "    elif k < pivot_index:\n",
        "        return randomized_quickselect(arr, low, pivot_index - 1, k)\n",
        "    else:\n",
        "        return randomized_quickselect(arr, pivot_index + 1, high, k)\n",
        "def find_kth_smallest(arr, k):\n",
        "    k = k - 1\n",
        "    return randomized_quickselect(arr, 0, len(arr) - 1, k)\n",
        "arr = [12, 3, 5, 7, 19, 1, 18, 9]\n",
        "k = 4\n",
        "print(f\"The {k}th smallest element is: {find_kth_smallest(arr, k)}\")\n"
      ]
    }
  ]
}