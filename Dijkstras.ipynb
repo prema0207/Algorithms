{
  "nbformat": 4,
  "nbformat_minor": 0,
  "metadata": {
    "colab": {
      "provenance": [],
      "authorship_tag": "ABX9TyNWqCFVrnGB3cmkyo6aEglG",
      "include_colab_link": true
    },
    "kernelspec": {
      "name": "python3",
      "display_name": "Python 3"
    },
    "language_info": {
      "name": "python"
    }
  },
  "cells": [
    {
      "cell_type": "markdown",
      "metadata": {
        "id": "view-in-github",
        "colab_type": "text"
      },
      "source": [
        "<a href=\"https://colab.research.google.com/github/prema0207/Algorithms/blob/main/Dijkstras.ipynb\" target=\"_parent\"><img src=\"https://colab.research.google.com/assets/colab-badge.svg\" alt=\"Open In Colab\"/></a>"
      ]
    },
    {
      "cell_type": "code",
      "source": [
        "import heapq\n",
        "import sys\n",
        "class Graph:\n",
        "    def __init__(self, vertices):\n",
        "        self.vertices = vertices\n",
        "        self.graph = {i: [] for i in range(vertices)}\n",
        "    def add_edge(self, u, v, weight):\n",
        "        self.graph[u].append((v, weight))\n",
        "        self.graph[v].append((u, weight))\n",
        "    def dijkstra(self, start):\n",
        "       distances = {i: sys.maxsize for i in range(self.vertices)}\n",
        "       distances[start] = 0\n",
        "       visited = set()\n",
        "       priority_queue = [(0, start)]\n",
        "       while priority_queue:\n",
        "            current_distance, current_vertex = heapq.heappop(priority_queue)\n",
        "            if current_vertex in visited:\n",
        "                continue\n",
        "            visited.add(current_vertex)\n",
        "            for neighbor, weight in self.graph[current_vertex]:\n",
        "                if neighbor not in visited:\n",
        "                    new_distance = current_distance + weight\n",
        "                    if new_distance < distances[neighbor]:\n",
        "                        distances[neighbor] = new_distance\n",
        "                        heapq.heappush(priority_queue, (new_distance, neighbor))\n",
        "       return distances\n",
        "if __name__ == \"__main__\":\n",
        "    g = Graph(6)\n",
        "    g.add_edge(0, 1, 5)\n",
        "    g.add_edge(0, 2, 1)\n",
        "    g.add_edge(1, 3, 2)\n",
        "    g.add_edge(1, 4, 4)\n",
        "    g.add_edge(2, 3, 1)\n",
        "    g.add_edge(3, 4, 1)\n",
        "    g.add_edge(3, 5, 3)\n",
        "    g.add_edge(4, 5, 1)\n",
        "    start_vertex = 0\n",
        "    shortest_paths = g.dijkstra(start_vertex)\n",
        "    print(f\"Shortest paths from vertex {start_vertex}:\")\n",
        "    for vertex, distance in shortest_paths.items():\n",
        "        print(f\"Vertex {vertex}: {distance}\")\n"
      ],
      "metadata": {
        "colab": {
          "base_uri": "https://localhost:8080/"
        },
        "id": "pDA3lFycA80j",
        "outputId": "743b9440-0814-45ec-d47a-5028702a675d"
      },
      "execution_count": 39,
      "outputs": [
        {
          "output_type": "stream",
          "name": "stdout",
          "text": [
            "Shortest paths from vertex 0:\n",
            "Vertex 0: 0\n",
            "Vertex 1: 4\n",
            "Vertex 2: 1\n",
            "Vertex 3: 2\n",
            "Vertex 4: 3\n",
            "Vertex 5: 4\n"
          ]
        }
      ]
    }
  ]
}