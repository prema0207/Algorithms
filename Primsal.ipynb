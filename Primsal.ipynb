{
  "nbformat": 4,
  "nbformat_minor": 0,
  "metadata": {
    "colab": {
      "provenance": [],
      "authorship_tag": "ABX9TyNk7n4iu1beIFEGc+IhjYon",
      "include_colab_link": true
    },
    "kernelspec": {
      "name": "python3",
      "display_name": "Python 3"
    },
    "language_info": {
      "name": "python"
    }
  },
  "cells": [
    {
      "cell_type": "markdown",
      "metadata": {
        "id": "view-in-github",
        "colab_type": "text"
      },
      "source": [
        "<a href=\"https://colab.research.google.com/github/prema0207/Algorithms/blob/main/Primsal.ipynb\" target=\"_parent\"><img src=\"https://colab.research.google.com/assets/colab-badge.svg\" alt=\"Open In Colab\"/></a>"
      ]
    },
    {
      "cell_type": "code",
      "execution_count": 2,
      "metadata": {
        "colab": {
          "base_uri": "https://localhost:8080/"
        },
        "id": "4JcK7mPk249c",
        "outputId": "8d65529c-6cf0-4f51-dcf5-e5997fcec46a"
      },
      "outputs": [
        {
          "output_type": "stream",
          "name": "stdout",
          "text": [
            "Minimum Cost Spanning Tree edges:\n",
            "0 -- 1 == 2\n",
            "0 -- 3 == 6\n",
            "1 -- 2 == 3\n",
            "1 -- 3 == 8\n",
            "1 -- 4 == 5\n",
            "2 -- 4 == 7\n",
            "4 -- 3 == 9\n",
            "Total cost of MST: 16\n"
          ]
        }
      ],
      "source": [
        "import heapq\n",
        "def prim_mst(graph):\n",
        "    n = len(graph)\n",
        "    visited = [False] * n\n",
        "    min_heap = [(0, 0)]\n",
        "    total_cost = 0\n",
        "    mst_edges = []\n",
        "    while min_heap:\n",
        "        cost, u = heapq.heappop(min_heap)\n",
        "        if visited[u]:\n",
        "            continue\n",
        "        visited[u] = True\n",
        "        total_cost += cost\n",
        "        for v, weight in graph[u]:\n",
        "            if not visited[v]:\n",
        "                heapq.heappush(min_heap, (weight, v))\n",
        "                mst_edges.append((u, v, weight))\n",
        "    print(\"Minimum Cost Spanning Tree edges:\")\n",
        "    for u, v, weight in mst_edges:\n",
        "        print(f\"{u} -- {v} == {weight}\")\n",
        "    print(\"Total cost of MST:\", total_cost)\n",
        "graph = {\n",
        "    0: [(1, 2), (3, 6)],\n",
        "    1: [(0, 2), (2, 3), (3, 8), (4, 5)],\n",
        "    2: [(1, 3), (4, 7)],\n",
        "    3: [(0, 6), (1, 8), (4, 9)],\n",
        "    4: [(1, 5), (2, 7), (3, 9)]\n",
        "}\n",
        "prim_mst(graph)\n"
      ]
    }
  ]
}