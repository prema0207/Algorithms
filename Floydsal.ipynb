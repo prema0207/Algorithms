{
  "nbformat": 4,
  "nbformat_minor": 0,
  "metadata": {
    "colab": {
      "provenance": [],
      "authorship_tag": "ABX9TyNpLXDlOS25hAgVrm0CAqLl",
      "include_colab_link": true
    },
    "kernelspec": {
      "name": "python3",
      "display_name": "Python 3"
    },
    "language_info": {
      "name": "python"
    }
  },
  "cells": [
    {
      "cell_type": "markdown",
      "metadata": {
        "id": "view-in-github",
        "colab_type": "text"
      },
      "source": [
        "<a href=\"https://colab.research.google.com/github/prema0207/Algorithms/blob/main/Floydsal.ipynb\" target=\"_parent\"><img src=\"https://colab.research.google.com/assets/colab-badge.svg\" alt=\"Open In Colab\"/></a>"
      ]
    },
    {
      "cell_type": "code",
      "execution_count": 3,
      "metadata": {
        "colab": {
          "base_uri": "https://localhost:8080/"
        },
        "id": "coSkfWUq3s2v",
        "outputId": "300a3574-b660-4ca1-a16d-a9a60119af54"
      },
      "outputs": [
        {
          "output_type": "stream",
          "name": "stdout",
          "text": [
            "All Pairs Shortest Paths Matrix:\n",
            "[0, 3, 7, 5]\n",
            "[2, 0, 6, 4]\n",
            "[3, 1, 0, 5]\n",
            "[5, 3, 2, 0]\n"
          ]
        }
      ],
      "source": [
        "def floyd_warshall(graph):\n",
        "    n = len(graph)\n",
        "    dist = [[float('inf')] * n for _ in range(n)]\n",
        "    for i in range(n):\n",
        "        for j in range(n):\n",
        "            dist[i][j] = graph[i][j]\n",
        "    for k in range(n):\n",
        "        for i in range(n):\n",
        "            for j in range(n):\n",
        "                if dist[i][k] + dist[k][j] < dist[i][j]:\n",
        "                    dist[i][j] = dist[i][k] + dist[k][j]\n",
        "    return dist\n",
        "graph = [\n",
        "    [0,   3,  float('inf'), 5],\n",
        "    [2,   0,  float('inf'), 4],\n",
        "    [float('inf'), 1,  0,   float('inf')],\n",
        "    [float('inf'), float('inf'), 2, 0]\n",
        "]\n",
        "result = floyd_warshall(graph)\n",
        "print(\"All Pairs Shortest Paths Matrix:\")\n",
        "for row in result:\n",
        "    print(row)\n"
      ]
    }
  ]
}